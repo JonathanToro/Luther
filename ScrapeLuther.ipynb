{
 "cells": [
  {
   "cell_type": "code",
   "execution_count": null,
   "metadata": {
    "collapsed": false,
    "scrolled": true
   },
   "outputs": [],
   "source": [
    "from bs4 import BeautifulSoup\n",
    "from urllib2 import urlopen\n",
    "import requests\n",
    "import pandas as pd\n",
    "import numpy as np\n",
    "import matplotlib.pyplot as plt\n",
    "import re\n",
    "import string\n",
    "import dateutil.parser\n",
    "import httplib\n",
    "import time\n",
    "\n",
    "%matplotlib inline"
   ]
  },
  {
   "cell_type": "code",
   "execution_count": null,
   "metadata": {
    "collapsed": true
   },
   "outputs": [],
   "source": [
    "BASE_URL = 'http://www.boxofficemojo.com/'"
   ]
  },
  {
   "cell_type": "code",
   "execution_count": null,
   "metadata": {
    "collapsed": true
   },
   "outputs": [],
   "source": [
    "def get_movie_links(section_url):\n",
    "    html = urlopen(section_url).read()\n",
    "    soup = BeautifulSoup(html,'lxml')\n",
    "    a = soup.find('tr').find_all('a')\n",
    "    a_regex = re.compile('s\\/\\?(.*?)\"') \n",
    "    movie_links = []\n",
    "    for line in a:\n",
    "        result = re.search(a_regex, str(line))\n",
    "        if result:\n",
    "            movie_links.append(result.group(0))\n",
    "    complete_movie_links = [(BASE_URL+\"movie\"+i[:-1]) for i in movie_links]\n",
    "    return complete_movie_links"
   ]
  },
  {
   "cell_type": "code",
   "execution_count": null,
   "metadata": {
    "collapsed": false
   },
   "outputs": [],
   "source": [
    "alphabet = [\"NUM\"] + list(string.ascii_uppercase)\n",
    "first_half = \"http://www.boxofficemojo.com/movies/alphabetical.htm?letter=\"\n",
    "second_half = \"&p=.htm\"\n",
    "letter_links = [first_half + letter + second_half for letter in alphabet]"
   ]
  },
  {
   "cell_type": "code",
   "execution_count": null,
   "metadata": {
    "collapsed": false
   },
   "outputs": [],
   "source": [
    "def number_links(letter_url):\n",
    "    html = urlopen(letter_url).read()\n",
    "    soup = BeautifulSoup(html,'lxml')\n",
    "    alpha = soup.find('div','alpha-nav-holder')\n",
    "    number_link= [BASE_URL + a[\"href\"] for a in alpha.findAll(\"a\")]\n",
    "    return number_link"
   ]
  },
  {
   "cell_type": "code",
   "execution_count": null,
   "metadata": {
    "collapsed": false
   },
   "outputs": [],
   "source": [
    "def get_movie_value(movie_link, field_name):\n",
    "    soup = BeautifulSoup(requests.get(movie_link).text)\n",
    "    '''Grab a value from boxofficemojo HTML\n",
    "    \n",
    "    Takes a string attribute of a movie on the page and\n",
    "    returns the string in the next sibling object\n",
    "    (the value for that attribute)\n",
    "    or None if nothing is found.\n",
    "    '''\n",
    "    if field_name == 'title':\n",
    "        title_string = soup.find(field_name).text\n",
    "        title = title_string.split('(')[0].strip()\n",
    "        return title\n",
    "    else:\n",
    "        obj = soup.find(text=re.compile(field_name))\n",
    "        if not obj: \n",
    "            return None\n",
    "        # this works for most of the values\n",
    "        next_sibling = obj.findNextSibling()\n",
    "        if next_sibling:\n",
    "            return next_sibling.text \n",
    "        else:\n",
    "            return None"
   ]
  },
  {
   "cell_type": "code",
   "execution_count": null,
   "metadata": {
    "collapsed": false
   },
   "outputs": [],
   "source": [
    "almost_all = [number_links(letter) for letter in letter_links]\n",
    "almost_all2 = [item for sublist in almost_all for item in sublist]\n",
    "real_all = almost_all2 +letter_links\n",
    "all_movies = [get_movie_links(link) for link in real_all]\n",
    "all_movies2 = [item for sublist in all_movies for item in sublist]"
   ]
  },
  {
   "cell_type": "code",
   "execution_count": null,
   "metadata": {
    "collapsed": false
   },
   "outputs": [],
   "source": [
    "len(all_movies2)"
   ]
  },
  {
   "cell_type": "code",
   "execution_count": null,
   "metadata": {
    "collapsed": true
   },
   "outputs": [],
   "source": [
    "b= 'http://www.boxofficemojo.com/movies/alphabetical.htm?letter=A&p=.htm'"
   ]
  },
  {
   "cell_type": "code",
   "execution_count": null,
   "metadata": {
    "collapsed": false
   },
   "outputs": [],
   "source": [
    "def to_date(datestring):\n",
    "    try:\n",
    "        date = dateutil.parser.parse(datestring)\n",
    "        return date\n",
    "    except:\n",
    "        pass\n",
    "\n",
    "def money_to_int(string):\n",
    "    if string is not None:\n",
    "        i = string.replace('$','').replace(',','').replace(' ','')\n",
    "        if \"million\" in i:\n",
    "            i = i.replace('million','')\n",
    "            i = float(i) * 1000000\n",
    "            i = int(i)\n",
    "        return i\n",
    "    else:\n",
    "        return np.nan"
   ]
  },
  {
   "cell_type": "code",
   "execution_count": null,
   "metadata": {
    "collapsed": false
   },
   "outputs": [],
   "source": [
    "def all_movie_values(movie_link):\n",
    "    runtime = get_movie_value(movie_link,'Runtime:')\n",
    "    rating = get_movie_value(movie_link,'MPAA Rating:')\n",
    "    production = get_movie_value(movie_link,'Production Budget:')\n",
    "    distributor = get_movie_value(movie_link, 'Distributor:')\n",
    "    release = get_movie_value(movie_link, 'Release Date:')\n",
    "    domestic_total_gross = get_movie_value(movie_link, \"Domestic Total Gross:\")\n",
    "    genre = get_movie_value(movie_link, \"Genre:\")\n",
    "    title = get_movie_value(movie_link, \"title\")\n",
    "    return {title:[money_to_int(domestic_total_gross),money_to_int(production),runtime,rating,to_date(release),genre]}"
   ]
  },
  {
   "cell_type": "code",
   "execution_count": null,
   "metadata": {
    "collapsed": false
   },
   "outputs": [],
   "source": [
    "movie_dict = {}\n",
    "count = 0\n",
    "for a in all_movies2:\n",
    "    mov = all_movie_values(a)\n",
    "    movie_dict.update(mov)\n",
    "    time.sleep(.1)\n",
    "    count += 1\n",
    "    print count, mov"
   ]
  },
  {
   "cell_type": "code",
   "execution_count": null,
   "metadata": {
    "collapsed": false
   },
   "outputs": [],
   "source": [
    "m = []\n",
    "for key, value in new5.items():\n",
    "    m.append(value[:7])"
   ]
  },
  {
   "cell_type": "code",
   "execution_count": null,
   "metadata": {
    "collapsed": true
   },
   "outputs": [],
   "source": [
    "m1 = m[10035:]\n",
    "m2 = m[:10035]\n",
    "fixed_m = m1 + m2"
   ]
  },
  {
   "cell_type": "code",
   "execution_count": null,
   "metadata": {
    "collapsed": false
   },
   "outputs": [],
   "source": [
    "dtg_list = []\n",
    "production_list = []\n",
    "runtime_list = []\n",
    "rating_list = []\n",
    "date_list = []\n",
    "genre_list = []\n",
    "title_list = []\n",
    "for i in fixed_m:\n",
    "    try:\n",
    "        dtg_list.append(int(i[0]))\n",
    "    except:\n",
    "        dtg_list.append(i[0])\n",
    "    if type(i[1]) == int:\n",
    "        production_list.append(i[1])\n",
    "    else:\n",
    "        production_list.append(np.nan)\n",
    "    runtime_list.append(str(i[2]))\n",
    "    rating_list.append(str(i[3]))\n",
    "    date_list.append(i[4])\n",
    "    genre_list.append(str(i[5]))\n",
    "    title_list.append(str(i[6]))"
   ]
  },
  {
   "cell_type": "code",
   "execution_count": null,
   "metadata": {
    "collapsed": false
   },
   "outputs": [],
   "source": [
    "rows = zip(title_list, dtg_list, production_list, runtime_list, rating_list, date_list, genre_list)"
   ]
  },
  {
   "cell_type": "code",
   "execution_count": null,
   "metadata": {
    "collapsed": false
   },
   "outputs": [],
   "source": [
    "with open('output.csv', 'wb') as f:\n",
    "    writer = csv.writer(f)\n",
    "    for row in rows:\n",
    "        writer.writerow(row)"
   ]
  }
 ],
 "metadata": {
  "kernelspec": {
   "display_name": "Python [Root]",
   "language": "python",
   "name": "Python [Root]"
  },
  "language_info": {
   "codemirror_mode": {
    "name": "ipython",
    "version": 2
   },
   "file_extension": ".py",
   "mimetype": "text/x-python",
   "name": "python",
   "nbconvert_exporter": "python",
   "pygments_lexer": "ipython2",
   "version": "2.7.12"
  }
 },
 "nbformat": 4,
 "nbformat_minor": 0
}
